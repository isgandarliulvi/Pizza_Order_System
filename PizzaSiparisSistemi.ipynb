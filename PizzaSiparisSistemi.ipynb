{
  "nbformat": 4,
  "nbformat_minor": 0,
  "metadata": {
    "colab": {
      "provenance": []
    },
    "kernelspec": {
      "name": "python3",
      "display_name": "Python 3"
    },
    "language_info": {
      "name": "python"
    }
  },
  "cells": [
    {
      "cell_type": "code",
      "source": [
        "import csv\n",
        "from datetime import datetime"
      ],
      "metadata": {
        "id": "NsOeJXE_dQCC"
      },
      "execution_count": 1,
      "outputs": []
    },
    {
      "cell_type": "code",
      "source": [
        "# Üst Pizza sınfının ve ondan inherit olacak alt pizza sınıflarının oluşturulması"
      ],
      "metadata": {
        "id": "mdklJAnXfSRE"
      },
      "execution_count": 3,
      "outputs": []
    },
    {
      "cell_type": "code",
      "source": [
        "class Pizza:\n",
        "    def __init__(self):\n",
        "        self.description = \"Bir pizza\"\n",
        "\n",
        "    def get_description(self):\n",
        "        return self.description\n",
        "\n",
        "    def get_cost(self):\n",
        "        return 0.0\n",
        "\n",
        "\n",
        "class Klasik(Pizza):\n",
        "    def __init__(self):\n",
        "        super().__init__()\n",
        "        self.description = \"Klasik Pizza\"\n",
        "        self.cost = 20.0\n",
        "\n",
        "    def get_cost(self):\n",
        "        return self.cost\n",
        "\n",
        "\n",
        "class Margherita(Pizza):\n",
        "    def __init__(self):\n",
        "        super().__init__()\n",
        "        self.description = \"Margherita Pizza\"\n",
        "        self.cost = 25.0\n",
        "\n",
        "    def get_cost(self):\n",
        "        return self.cost\n",
        "\n",
        "\n",
        "class TurkPizza(Pizza):\n",
        "    def __init__(self):\n",
        "        super().__init__()\n",
        "        self.description = \"Türk Pizzası\"\n",
        "        self.cost = 22.0\n",
        "\n",
        "    def get_cost(self):\n",
        "        return self.cost\n",
        "\n",
        "\n",
        "class Dominos(Pizza):\n",
        "    def __init__(self):\n",
        "        super().__init__()\n",
        "        self.description = \"Dominos Pizza\"\n",
        "        self.cost = 30.0\n",
        "\n",
        "    def get_cost(self):\n",
        "        return self.cost\n"
      ],
      "metadata": {
        "id": "gFpzElAYefE0"
      },
      "execution_count": 2,
      "outputs": []
    },
    {
      "cell_type": "code",
      "source": [
        "# Üst Decorator sınfının ve ondan inherit olacak sos sınıflarının oluşturulması"
      ],
      "metadata": {
        "id": "glhLQScfg4oh"
      },
      "execution_count": 5,
      "outputs": []
    },
    {
      "cell_type": "code",
      "source": [
        "class Decorator(Pizza):\n",
        "    def __init__(self, pizza):\n",
        "        super().__init__()\n",
        "        self.pizza = pizza\n",
        "\n",
        "    def get_description(self):\n",
        "        return self.pizza.get_description()\n",
        "\n",
        "    def get_cost(self):\n",
        "        return self.pizza.get_cost()\n",
        "\n",
        "\n",
        "class Zeytin(Decorator):\n",
        "    def __init__(self, pizza):\n",
        "        super().__init__(pizza)\n",
        "        self.description = \"Zeytin\"\n",
        "        self.cost = 3.0\n",
        "\n",
        "    def get_description(self):\n",
        "        return self.pizza.get_description() + \", \" + self.description\n",
        "\n",
        "    def get_cost(self):\n",
        "        return self.pizza.get_cost() + self.cost\n",
        "\n",
        "\n",
        "class Mantar(Decorator):\n",
        "    def __init__(self, pizza):\n",
        "        super().__init__(pizza)\n",
        "        self.description = \"Mantar\"\n",
        "        self.cost = 4.0\n",
        "\n",
        "    def get_description(self):\n",
        "        return self.pizza.get_description() + \", \" + self.description\n",
        "\n",
        "    def get_cost(self):\n",
        "        return self.pizza.get_cost() + self.cost\n",
        "\n",
        "\n",
        "class KeciPeyniri(Decorator):\n",
        "    def __init__(self, pizza):\n",
        "        super().__init__(pizza)\n",
        "        self.description = \"Keçi Peyniri\"\n",
        "        self.cost = 5.0\n",
        "\n",
        "    def get_description(self):\n",
        "        return self.pizza.get_description() + \", \" + self.description\n",
        "\n",
        "    def get_cost(self):\n",
        "        return self.pizza.get_cost() + self.cost\n",
        "\n",
        "\n",
        "class Et(Decorator):\n",
        "    def __init__(self, pizza):\n",
        "        super().__init__(pizza)\n",
        "        self.description = \"Et\"\n",
        "        self.cost = 6.0\n",
        "\n",
        "    def get_description(self):\n",
        "        return self.pizza.get_description() + \", \" + self.description\n",
        "\n",
        "    def get_cost(self):\n",
        "        return self.pizza.get_cost() + self.cost\n",
        "\n",
        "\n",
        "class Sogan(Decorator):\n",
        "    def __init__(self, pizza):\n",
        "        super().__init__(pizza)\n",
        "        self.description = \"Soğan\"\n",
        "        self.cost = 2.0\n",
        "\n",
        "    def get_description(self):\n",
        "        return self.pizza.get_description() + \", \" + self.description\n",
        "\n",
        "    def get_cost(self):\n",
        "        return self.pizza.get_cost() + self.cost\n",
        "\n",
        "\n",
        "class Misir(Decorator):\n",
        "    def __init__(self, pizza):\n",
        "        super().__init__(pizza)\n",
        "        self.description = \"Mısır\"\n",
        "        self.cost = 3.0\n",
        "\n",
        "    def get_description(self):\n",
        "        return self.pizza.get_description() + \", \" + self.description\n",
        "\n",
        "    def get_cost(self):\n",
        "        return self.pizza.get_cost() + self"
      ],
      "metadata": {
        "id": "ROTzm4T0fxVb"
      },
      "execution_count": 4,
      "outputs": []
    },
    {
      "cell_type": "code",
      "source": [
        "from google.colab import drive\n",
        "drive.mount('/content/Menu')"
      ],
      "metadata": {
        "colab": {
          "base_uri": "https://localhost:8080/"
        },
        "id": "HPSLHSUYhGjW",
        "outputId": "4f5ed618-fd31-4bae-a49b-38c0200021d8"
      },
      "execution_count": 30,
      "outputs": [
        {
          "output_type": "stream",
          "name": "stdout",
          "text": [
            "Drive already mounted at /content/Menu; to attempt to forcibly remount, call drive.mount(\"/content/Menu\", force_remount=True).\n"
          ]
        }
      ]
    },
    {
      "cell_type": "code",
      "source": [
        "# Menu.txt dosyasının okunması"
      ],
      "metadata": {
        "id": "HdlRUk9InK2B"
      },
      "execution_count": 12,
      "outputs": []
    },
    {
      "cell_type": "code",
      "source": [
        "with open('Menu.txt', 'r', encoding='utf-8') as f:\n",
        "    menu = f.read()"
      ],
      "metadata": {
        "id": "-U8SCmCJh8QY"
      },
      "execution_count": 32,
      "outputs": []
    },
    {
      "cell_type": "code",
      "source": [
        "# Pizza ve sos seçimlerinin yapılması için fonksiyonların tanımlanması"
      ],
      "metadata": {
        "id": "gDes5l6OnjBW"
      },
      "execution_count": 14,
      "outputs": []
    },
    {
      "cell_type": "code",
      "source": [
        "def get_pizza_choice():\n",
        "    pizza_choice = input(\"Lütfen pizza seçiminizi yapınız (1-4): \")\n",
        "    while pizza_choice not in [\"1\", \"2\", \"3\", \"4\"]:\n",
        "        pizza_choice = input(\"Geçersiz seçim. Lütfen pizza seçiminizi (1-4) arasında yapınız: \")\n",
        "    return pizza_choice\n",
        "\n",
        "\n",
        "def get_topping_choice():\n",
        "    topping_choice = input(\"Lütfen sos seçiminizi yapınız (1-6): \")\n",
        "    while topping_choice not in [\"1\", \"2\", \"3\", \"4\", \"5\", \"6\"]:\n",
        "        topping_choice = input(\"Geçersiz seçim. Lütfen sos seçiminizi (1-6) arasında yapınız: \")\n",
        "    return topping_choice"
      ],
      "metadata": {
        "id": "UpI8mN6QnUha"
      },
      "execution_count": 13,
      "outputs": []
    },
    {
      "cell_type": "code",
      "source": [
        "# Seçilmiş ürünlerin toplam fiyatı"
      ],
      "metadata": {
        "id": "ObSzoPc9oKBR"
      },
      "execution_count": 16,
      "outputs": []
    },
    {
      "cell_type": "code",
      "source": [
        "def get_total_price(pizza, topping):\n",
        "    total_price = pizza.cost + topping.cost\n",
        "    return total_price"
      ],
      "metadata": {
        "id": "WvNrqAfrnv_O"
      },
      "execution_count": 15,
      "outputs": []
    },
    {
      "cell_type": "code",
      "source": [
        "# Kullanıcı bilgilerinin girilmesi için fonksiyonun tanımlanması"
      ],
      "metadata": {
        "id": "de5BsLppo-gS"
      },
      "execution_count": 18,
      "outputs": []
    },
    {
      "cell_type": "code",
      "source": [
        "def get_customer_info():\n",
        "    name = input(\"Lütfen isminizi giriniz: \")\n",
        "    tc = input(\"Lütfen TC kimlik numaranızı giriniz: \")\n",
        "    kart_numara = input(\"Lütfen kredi kartı numaranızı giriniz: \")\n",
        "    kart_sifre = input(\"Lütfen kredi kartı güvenlik kodunuzu giriniz: \")\n",
        "    return name, tc, kart_numara, kart_sifre"
      ],
      "metadata": {
        "id": "uYGmR2rsonIl"
      },
      "execution_count": 19,
      "outputs": []
    },
    {
      "cell_type": "code",
      "source": [
        "# Kullanıcı bilgilerini tutan dosyanın oluşturulması"
      ],
      "metadata": {
        "id": "uFu71AhUpQPa"
      },
      "execution_count": 21,
      "outputs": []
    },
    {
      "cell_type": "code",
      "source": [
        "def save_order_to_database(pizza, topping, name, id_no, credit_card_no, credit_card_password, timestamp):\n",
        "    with open(\"Orders_Database.csv\", mode=\"a\", newline=\"\") as database_file:\n",
        "        writer = csv.writer(database_file, delimiter=\",\", quotechar='\"', quoting=csv.QUOTE_MINIMAL)\n",
        "        writer.writerow([pizza.get_description(), topping.get_description(), name, id_no, credit_card_no, timestamp])"
      ],
      "metadata": {
        "id": "i6U9wazKpWCd"
      },
      "execution_count": 25,
      "outputs": []
    },
    {
      "cell_type": "code",
      "source": [
        "# Main fonksiyonunun oluşturulması"
      ],
      "metadata": {
        "id": "tD1d1uSJq5Bj"
      },
      "execution_count": 23,
      "outputs": []
    },
    {
      "cell_type": "code",
      "source": [
        "def main():\n",
        "    print(menu)\n",
        "    pizza_choice = get_pizza_choice()\n",
        "\n",
        "    if pizza_choice == \"1\":\n",
        "        pizza = Klasik()\n",
        "    elif pizza_choice == \"2\":\n",
        "        pizza = Margherita()\n",
        "    elif pizza_choice == \"3\":\n",
        "        pizza = TurkPizza()\n",
        "    else:\n",
        "        pizza = Dominos()\n",
        "\n",
        "    topping_choice = get_topping_choice()\n",
        "\n",
        "    if topping_choice == \"1\":\n",
        "        topping = Zeytin(pizza)\n",
        "    elif topping_choice == \"2\":\n",
        "        topping = Mantar(pizza)\n",
        "    elif topping_choice == \"3\":\n",
        "        topping = KeciPeyniri(pizza)\n",
        "    elif topping_choice == \"4\":\n",
        "        topping = Et(pizza)\n",
        "    elif topping_choice == \"5\":\n",
        "        topping = Sogan(pizza)\n",
        "    else:\n",
        "        topping = Misir(pizza)\n",
        "\n",
        "    total_price = get_total_price(pizza, topping)\n",
        "    print(f\"Toplam tutar: {total_price} TL\")\n",
        "\n",
        "    name, id_no, credit_card_no, credit_card_password = get_customer_info()\n",
        "    timestamp = datetime.now()\n",
        "\n",
        "    save_order_to_database(pizza, topping, name, id_no, credit_card_no, credit_card_password, timestamp)\n",
        "    print(\"Siparişiniz başarıyla kaydedilmiştir.\")\n",
        "\n",
        "    if name == \"main\":\n",
        "        main()"
      ],
      "metadata": {
        "id": "CJJjO6QupWGZ"
      },
      "execution_count": 22,
      "outputs": []
    },
    {
      "cell_type": "code",
      "source": [
        "main()"
      ],
      "metadata": {
        "colab": {
          "base_uri": "https://localhost:8080/"
        },
        "id": "xYpowkv_rH-Y",
        "outputId": "7dab6bbf-900a-4c61-c948-fc651e483656"
      },
      "execution_count": 34,
      "outputs": [
        {
          "output_type": "stream",
          "name": "stdout",
          "text": [
            "* Lütfen Bir Pizza Tabanı Seçiniz:\n",
            "\n",
            "1: Klasik\n",
            "2: Margarita\n",
            "3: TürkPizza\n",
            "4: Dominos Pizza\n",
            "\n",
            "* ve seçeceğiniz sos:\n",
            "1: Zeytin\n",
            "2: Mantarlar\n",
            "3: Keçi Peyniri\n",
            "4: Et\n",
            "5: Soğan\n",
            "6: Mısır\n",
            "\n",
            "* Teşekkür ederiz!\n",
            "\n",
            "Lütfen pizza seçiminizi yapınız (1-4): 3\n",
            "Lütfen sos seçiminizi yapınız (1-6): 4\n",
            "Toplam tutar: 28.0 TL\n",
            "Lütfen isminizi giriniz: Ulvi\n",
            "Lütfen TC kimlik numaranızı giriniz: 5547898754465\n",
            "Lütfen kredi kartı numaranızı giriniz: 485488947\n",
            "Lütfen kredi kartı güvenlik kodunuzu giriniz: 1554\n",
            "Siparişiniz başarıyla kaydedilmiştir.\n"
          ]
        }
      ]
    }
  ]
}